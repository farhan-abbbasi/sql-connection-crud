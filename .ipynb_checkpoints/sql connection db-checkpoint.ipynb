{
 "cells": [
  {
   "cell_type": "code",
   "execution_count": 1,
   "id": "7dafe764",
   "metadata": {},
   "outputs": [],
   "source": [
    "import pyodbc as odb\n",
    "con=odb.connect(\"Driver={SQL SERVER};Server=BRK0422;database=db_library;Trusted_Connection=YES\")\n",
    "\n"
   ]
  },
  {
   "cell_type": "code",
   "execution_count": 2,
   "id": "18e71a84",
   "metadata": {},
   "outputs": [],
   "source": [
    "def insert(con):\n",
    "    \n",
    "    while(True):\n",
    "        name=input(\"insert book name :\")\n",
    "        p_year=input(\"year of publish :\") \n",
    "        cursor=con.cursor()\n",
    "        cursor.execute(\"insert into tbl_books (b_name,publsih_year) values (?,?)\",(name,p_year))\n",
    "        print(\"insert done\")\n",
    "        con.commit()\n",
    "        again=input(\"added more ??? y/n\")\n",
    "        if again=='yes' or again==\"Y\" or again==\"y\":\n",
    "            continue\n",
    "        else:\n",
    "            break\n",
    "\n",
    "       "
   ]
  },
  {
   "cell_type": "code",
   "execution_count": 3,
   "id": "e739d087",
   "metadata": {},
   "outputs": [],
   "source": [
    "def read(con):\n",
    "    \n",
    "    cursor=con.cursor()\n",
    "    cursor.execute(\"select * from tbl_books\")\n",
    "    for row in cursor:\n",
    "        print(f\"{row}\")\n",
    "   \n"
   ]
  },
  {
   "cell_type": "code",
   "execution_count": 4,
   "id": "d20715c7",
   "metadata": {},
   "outputs": [],
   "source": [
    "def update(con):\n",
    "    cursor=con.cursor()\n",
    "    cursor.execute(\"update tbl_student set name='hamza' where std_ID=101\")\n",
    "    con.commit()\n",
    "    print(\"record updated\")\n"
   ]
  },
  {
   "cell_type": "code",
   "execution_count": 5,
   "id": "17c450b6",
   "metadata": {},
   "outputs": [],
   "source": [
    "def delete(con):\n",
    "    cursor=con.cursor()\n",
    "    cursor.execute(\"delete from tbl_student where Std_ID=104\")\n",
    "    con.commit()\n",
    "    print(\"recor updated\")\n"
   ]
  },
  {
   "cell_type": "code",
   "execution_count": null,
   "id": "8010e4b9",
   "metadata": {},
   "outputs": [
    {
     "name": "stdout",
     "output_type": "stream",
     "text": [
      "\n",
      "\n",
      "select on option in the below :\n",
      " Review \n",
      " Insert \n",
      " update \n",
      " delete\n",
      "enter option :review\n",
      "\n",
      "\n",
      "read\n",
      "\n",
      "\n",
      "select on option in the below :\n",
      " Review \n",
      " Insert \n",
      " update \n",
      " delete\n",
      "enter option :insert\n",
      "\n",
      "\n",
      "insert book name :java\n",
      "year of publish :2000\n",
      "insert done\n",
      "added more ??? y/ny\n",
      "insert book name :c# basic\n",
      "year of publish :1999\n",
      "insert done\n",
      "added more ??? y/nn\n",
      "\n",
      "\n",
      "select on option in the below :\n",
      " Review \n",
      " Insert \n",
      " update \n",
      " delete\n",
      "enter option :review\n",
      "\n",
      "\n",
      "read\n",
      "(1, 'java', 2000)\n",
      "(2, 'c# basic', 1999)\n",
      "\n",
      "\n",
      "select on option in the below :\n",
      " Review \n",
      " Insert \n",
      " update \n",
      " delete\n"
     ]
    }
   ],
   "source": [
    "while(True):\n",
    "    print(\"\\n\")\n",
    "    print(\"select on option in the below :\\n Review \\n Insert \\n update \\n delete\")\n",
    "    option =input(\"enter option :\")\n",
    "    print(\"\\n\")\n",
    "    if option==\"Review\" or option== \"review\":\n",
    "        read(con)\n",
    "        continue\n",
    "    elif option==\"insert\":\n",
    "        insert(con)\n",
    "        continue"
   ]
  },
  {
   "cell_type": "code",
   "execution_count": null,
   "id": "213c6847",
   "metadata": {},
   "outputs": [],
   "source": []
  }
 ],
 "metadata": {
  "kernelspec": {
   "display_name": "Python 3 (ipykernel)",
   "language": "python",
   "name": "python3"
  },
  "language_info": {
   "codemirror_mode": {
    "name": "ipython",
    "version": 3
   },
   "file_extension": ".py",
   "mimetype": "text/x-python",
   "name": "python",
   "nbconvert_exporter": "python",
   "pygments_lexer": "ipython3",
   "version": "3.9.5"
  }
 },
 "nbformat": 4,
 "nbformat_minor": 5
}
